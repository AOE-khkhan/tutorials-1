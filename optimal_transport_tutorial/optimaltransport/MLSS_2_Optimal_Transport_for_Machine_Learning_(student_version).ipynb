{
  "nbformat": 4,
  "nbformat_minor": 0,
  "metadata": {
    "kernelspec": {
      "display_name": "Python 3",
      "language": "python",
      "name": "python3"
    },
    "language_info": {
      "codemirror_mode": {
        "name": "ipython",
        "version": 3
      },
      "file_extension": ".py",
      "mimetype": "text/x-python",
      "name": "python",
      "nbconvert_exporter": "python",
      "pygments_lexer": "ipython3",
      "version": "3.7.1"
    },
    "colab": {
      "name": "MLSS 2 Optimal Transport for Machine Learning (student version).ipynb",
      "version": "0.3.2",
      "provenance": []
    }
  },
  "cells": [
    {
      "cell_type": "markdown",
      "metadata": {
        "id": "57KL8eDKwAkr",
        "colab_type": "text"
      },
      "source": [
        "# MLSS 2019: Optimal Transport for Machine Learning"
      ]
    },
    {
      "cell_type": "markdown",
      "metadata": {
        "id": "axBioaovwAkv",
        "colab_type": "text"
      },
      "source": [
        "In this second practical session, we will apply OT in two different Machine Learning applications:\n",
        "1. Color Transfer\n",
        "2. Document Clustering\n",
        "\n",
        "In Color Transfer, we will mainly be interested in the optimal transport plan itself, while in Document Clustering, we will be interested in the value of the Optimal Transport / Wasserstein distance."
      ]
    },
    {
      "cell_type": "markdown",
      "metadata": {
        "id": "oCUSMwp1wMZQ",
        "colab_type": "text"
      },
      "source": [
        "<b>We are going to use Google Collab to run this notebook. In order to install all the necessary files run the following cells:</b>"
      ]
    },
    {
      "cell_type": "code",
      "metadata": {
        "id": "33pD5ciywNmm",
        "colab_type": "code",
        "colab": {}
      },
      "source": [
        "import os\n",
        "!pip install --upgrade git+https://github.com/mlss-skoltech/tutorials.git#subdirectory=optimal_transport_tutorial"
      ],
      "execution_count": 0,
      "outputs": []
    },
    {
      "cell_type": "code",
      "metadata": {
        "id": "u7bJKDk6wyam",
        "colab_type": "code",
        "colab": {}
      },
      "source": [
        "# Check your installation by importing POT\n",
        "!pip install pot\n",
        "import ot"
      ],
      "execution_count": 0,
      "outputs": []
    },
    {
      "cell_type": "markdown",
      "metadata": {
        "id": "jE5dwh5jw4mK",
        "colab_type": "text"
      },
      "source": [
        "Declare ```DATA_PATH``` as a path to the data from the tutorial package"
      ]
    },
    {
      "cell_type": "code",
      "metadata": {
        "id": "h_urSV_Nw7gz",
        "colab_type": "code",
        "colab": {}
      },
      "source": [
        "import pkg_resources\n",
        "\n",
        "DATA_PATH = pkg_resources.resource_filename('optimaltransport', 'data/')"
      ],
      "execution_count": 0,
      "outputs": []
    },
    {
      "cell_type": "markdown",
      "metadata": {
        "id": "xdjSuC2JxA0g",
        "colab_type": "text"
      },
      "source": [
        "<b>If you are running this notebook locally, make sure to clone the tutorial repository:</b>\n",
        "\n",
        "```!pip install --upgrade git+https://github.com/mlss-skoltech/tutorials.git#subdirectory=optimal_transport_tutorial```\n",
        "\n",
        "\n",
        "\n",
        "And install the following package:\n",
        "\n",
        "* Install with pip: ```bash pip install pot```\n",
        "* Install with conda: ```bash conda install -c conda-forge pot ```"
      ]
    },
    {
      "cell_type": "code",
      "metadata": {
        "id": "y9eqVdkrwAkw",
        "colab_type": "code",
        "colab": {}
      },
      "source": [
        "import numpy as np\n",
        "import ot"
      ],
      "execution_count": 0,
      "outputs": []
    },
    {
      "cell_type": "markdown",
      "metadata": {
        "id": "d4TDmWaawAk0",
        "colab_type": "text"
      },
      "source": [
        "## 1. Color Transfer"
      ]
    },
    {
      "cell_type": "markdown",
      "metadata": {
        "id": "KsTBGYN3wAk0",
        "colab_type": "text"
      },
      "source": [
        "Given a source and a target image, the goal of color transfer is to transform the colors of the source image so that it looks similar to the target image color palette. In the end, we want to find a \"color mapping\", giving for each color of the source image a new color. This can be done by computing the optimal transport plan between the two images, seen as point clouds in the RGB space."
      ]
    },
    {
      "cell_type": "code",
      "metadata": {
        "id": "VzfbrFDFwAk1",
        "colab_type": "code",
        "colab": {}
      },
      "source": [
        "# For plotting\n",
        "import matplotlib.pyplot as plt\n",
        "from matplotlib.pyplot import imread\n",
        "from mpl_toolkits.mplot3d import Axes3D"
      ],
      "execution_count": 0,
      "outputs": []
    },
    {
      "cell_type": "code",
      "metadata": {
        "id": "13BAZ2KpwAk8",
        "colab_type": "code",
        "colab": {}
      },
      "source": [
        "# Load the images\n",
        "I1 = imread(DATA_PATH + 'schiele.jpg').astype(np.float64) / 256\n",
        "I2 = imread(DATA_PATH + 'schiele2.jpg').astype(np.float64) / 256\n",
        "\n",
        "fig = plt.figure(figsize=(17, 30))\n",
        "\n",
        "ax = fig.add_subplot(1, 2, 1)\n",
        "ax.imshow(I1)\n",
        "ax.set_title('Landscape', fontsize=25)\n",
        "\n",
        "ax = fig.add_subplot(1, 2, 2)\n",
        "ax.imshow(I2)\n",
        "ax.set_title('Portrait', fontsize=25)\n",
        "\n",
        "plt.show()"
      ],
      "execution_count": 0,
      "outputs": []
    },
    {
      "cell_type": "markdown",
      "metadata": {
        "id": "pSPpFriLwAlA",
        "colab_type": "text"
      },
      "source": [
        "We will need to work with \"matrices\" instead of images. Since there are 3 colors, images have shape `(Width, Height, 3)`, and the corresponding matrices will have shape `(Width*Height, 3)`."
      ]
    },
    {
      "cell_type": "code",
      "metadata": {
        "id": "emal4z2EwAlB",
        "colab_type": "code",
        "colab": {}
      },
      "source": [
        "def im2mat(I):\n",
        "    '''Convert image I to matrix.'''\n",
        "    return # TODO: reshape\n",
        "\n",
        "def mat2im(X, shape):\n",
        "    '''Convert matrix X to image with shape 'shape'.'''\n",
        "    return # TODO: reshape\n",
        "\n",
        "X1 = im2mat(I1)\n",
        "X2 = im2mat(I2)"
      ],
      "execution_count": 0,
      "outputs": []
    },
    {
      "cell_type": "markdown",
      "metadata": {
        "id": "KprLOWg7wAlE",
        "colab_type": "text"
      },
      "source": [
        "Real images have way too many different colors, so we will need to subsample them. In order to do this, we use K-means over all the colors, and keep only the computed centroids. Note that using Mini Batch K-Means will speed the computations up."
      ]
    },
    {
      "cell_type": "code",
      "metadata": {
        "id": "ypyN5TMjwAlF",
        "colab_type": "code",
        "colab": {}
      },
      "source": [
        "from sklearn.cluster import MiniBatchKMeans\n",
        "\n",
        "# Size of the subsampled point clouds\n",
        "nbsamples = 1000\n",
        "\n",
        "kmeans1 = # TODO: Mini Batch K-Means for X1\n",
        "X1_sampled = # TODO: get the centroids\n",
        "\n",
        "kmeans2 = # TODO: Mini Batch K-Means for X2\n",
        "X2_sampled = # TODO: get the centroids"
      ],
      "execution_count": 0,
      "outputs": []
    },
    {
      "cell_type": "markdown",
      "metadata": {
        "id": "xYguNfDhwAlL",
        "colab_type": "text"
      },
      "source": [
        "Each image is represented by its \"matrix\", i.e. is seen as a point cloud $X \\in \\mathbb{R}^{N\\times3}$ in the RGB color space, identified with $\\mathbb{R}^3$. "
      ]
    },
    {
      "cell_type": "code",
      "metadata": {
        "id": "jHszq7CPwAlM",
        "colab_type": "code",
        "colab": {}
      },
      "source": [
        "def showImageAsPointCloud(X, Y):\n",
        "    '''Show the color palette associated with images X and Y.'''\n",
        "    fig = plt.figure(figsize=(17,8))\n",
        "    ax = fig.add_subplot(121, projection='3d')\n",
        "    ax.set_xlim(0,1)\n",
        "    ax.scatter(X[:,0], X[:,1], X[:,2], c=X, s=10, marker='o', alpha=0.6)\n",
        "    ax.set_xlabel('R',fontsize=22)\n",
        "    ax.set_xticklabels([])\n",
        "    ax.set_ylim(0,1)\n",
        "    ax.set_ylabel('G',fontsize=22)\n",
        "    ax.set_yticklabels([])\n",
        "    ax.set_zlim(0,1)\n",
        "    ax.set_zlabel('B',fontsize=22)\n",
        "    ax.set_zticklabels([])\n",
        "    ax.set_title('Landscape Color Palette', fontsize=20)\n",
        "    ax.grid('off')\n",
        "    \n",
        "    ax = fig.add_subplot(122, projection='3d')\n",
        "    ax.set_xlim(0,1)\n",
        "    ax.scatter(Y[:,0], Y[:,1], Y[:,2], c=Y, s=10, marker='o', alpha=0.6)\n",
        "    ax.set_xlabel('R',fontsize=22)\n",
        "    ax.set_xticklabels([])\n",
        "    ax.set_ylim(0,1)\n",
        "    ax.set_ylabel('G',fontsize=22)\n",
        "    ax.set_yticklabels([])\n",
        "    ax.set_zlim(0,1)\n",
        "    ax.set_zlabel('B',fontsize=22)\n",
        "    ax.set_zticklabels([])\n",
        "    ax.set_title('Portrait Color Palette', fontsize=20)\n",
        "    ax.grid('off')\n",
        "    \n",
        "    plt.show()"
      ],
      "execution_count": 0,
      "outputs": []
    },
    {
      "cell_type": "code",
      "metadata": {
        "id": "d4r_n9j5wAlO",
        "colab_type": "code",
        "colab": {}
      },
      "source": [
        "showImageAsPointCloud(X1_sampled, X2_sampled)"
      ],
      "execution_count": 0,
      "outputs": []
    },
    {
      "cell_type": "markdown",
      "metadata": {
        "id": "bWtBge5KwAlR",
        "colab_type": "text"
      },
      "source": [
        "In order to compute the optimal transport plans between the two point clouds, we have to compute the corresponding cost matrix. In the following, we will always consider the squared distance, _i.e._ $C_{ij} = \\|X_i - Y_j\\|^2$."
      ]
    },
    {
      "cell_type": "code",
      "metadata": {
        "id": "AV-S1C6-wAlR",
        "colab_type": "code",
        "colab": {}
      },
      "source": [
        "C = # TODO: compute the cost matrix using l2 ground distance"
      ],
      "execution_count": 0,
      "outputs": []
    },
    {
      "cell_type": "markdown",
      "metadata": {
        "id": "hg6CSfzBwAlV",
        "colab_type": "text"
      },
      "source": [
        "### Landscape with Portrait colors"
      ]
    },
    {
      "cell_type": "markdown",
      "metadata": {
        "id": "wexKcWriwAlV",
        "colab_type": "text"
      },
      "source": [
        "Here, the goal is to transfer the colors of the portrait to the landscape. We will compute the exact Optimal Transport Plan, as well as the Entropy Regularized Optimal Transport plans."
      ]
    },
    {
      "cell_type": "code",
      "metadata": {
        "id": "LrILq63TwAlW",
        "colab_type": "code",
        "colab": {}
      },
      "source": [
        "regs = [0.01, 0.1, 0.5]\n",
        "OT_plans = [] # Contains the OT plans for regularization strengths : 0, 0.01, 0.1, 0.5\n",
        "OT_plans.append(ot.emd()) # TODO: OT plan for exact OT\n",
        "for reg in regs:\n",
        "    OT_plans.append() # TODO: OT plan for regularization strength = reg"
      ],
      "execution_count": 0,
      "outputs": []
    },
    {
      "cell_type": "code",
      "metadata": {
        "id": "VSLLPM4AwAld",
        "colab_type": "code",
        "colab": {}
      },
      "source": [
        "def colorTransfer(OT_plan, kmeans1, kmeans2, shape):\n",
        "    '''Return the color-transfered image of shape \"shape\".'''\n",
        "    return # TODO"
      ],
      "execution_count": 0,
      "outputs": []
    },
    {
      "cell_type": "code",
      "metadata": {
        "id": "IUJHdGJKwAlh",
        "colab_type": "code",
        "colab": {}
      },
      "source": [
        "fig = plt.figure(figsize=(17, 20))\n",
        "\n",
        "ax = fig.add_subplot(1, 2, 1)\n",
        "ax.imshow(I1)\n",
        "ax.set_title('Source Image', fontsize=20)\n",
        "\n",
        "ax = fig.add_subplot(1, 2, 2)\n",
        "I = colorTransfer(OT_plans[0], kmeans1, kmeans2, I1.shape)\n",
        "ax.imshow(I)\n",
        "ax.set_title('Reg = 0', fontsize=20)\n",
        "\n",
        "plt.show()\n",
        "\n",
        "fig = plt.figure(figsize=(17, 20))\n",
        "for i in range(3):\n",
        "    ax = fig.add_subplot(2, 3, i+1)\n",
        "    I = colorTransfer(OT_plans[i+1], kmeans1, kmeans2, I1.shape)\n",
        "    ax.imshow(I)\n",
        "    ax.set_title('Reg = '+str(regs[i]), fontsize=20)\n",
        "\n",
        "plt.show()"
      ],
      "execution_count": 0,
      "outputs": []
    },
    {
      "cell_type": "markdown",
      "metadata": {
        "id": "zR5JREbywAlk",
        "colab_type": "text"
      },
      "source": [
        "### Portait with Landscape colors"
      ]
    },
    {
      "cell_type": "markdown",
      "metadata": {
        "id": "vEuyDVKswAll",
        "colab_type": "text"
      },
      "source": [
        "We now transfer the colors of the landscape to the portrait."
      ]
    },
    {
      "cell_type": "code",
      "metadata": {
        "id": "4y4w6yoYwAlm",
        "colab_type": "code",
        "colab": {}
      },
      "source": [
        "C = # TODO"
      ],
      "execution_count": 0,
      "outputs": []
    },
    {
      "cell_type": "code",
      "metadata": {
        "id": "hkKbTE74wAlr",
        "colab_type": "code",
        "colab": {}
      },
      "source": [
        "regs = [0.01, 0.03, 0.1]\n",
        "OT_plans = []\n",
        "OT_plans.append(ot.emd()) # TODO\n",
        "for reg in regs:\n",
        "    OT_plans.append() # TODO"
      ],
      "execution_count": 0,
      "outputs": []
    },
    {
      "cell_type": "code",
      "metadata": {
        "id": "wrM8E7_4wAlv",
        "colab_type": "code",
        "colab": {}
      },
      "source": [
        "def colorTransfer(OT_plan, kmeans1, kmeans2, shape):\n",
        "    return # TODO"
      ],
      "execution_count": 0,
      "outputs": []
    },
    {
      "cell_type": "code",
      "metadata": {
        "id": "vMIVlsDGwAly",
        "colab_type": "code",
        "colab": {}
      },
      "source": [
        "fig = plt.figure(figsize=(17, 20))\n",
        "\n",
        "ax = fig.add_subplot(1, 2, 1)\n",
        "ax.imshow(I2)\n",
        "ax.set_title('Source Image', fontsize=20)\n",
        "\n",
        "ax = fig.add_subplot(1, 2, 2)\n",
        "I = colorTransfer(OT_plans[0], kmeans1, kmeans2, I2.shape)\n",
        "ax.imshow(I)\n",
        "ax.set_title('Reg = 0', fontsize=20)\n",
        "\n",
        "plt.show()\n",
        "\n",
        "fig = plt.figure(figsize=(17, 20))\n",
        "for i in range(3):\n",
        "    ax = fig.add_subplot(2, 3, i+1)\n",
        "    I = colorTransfer(OT_plans[i+1], kmeans1, kmeans2, I2.shape)\n",
        "    ax.imshow(I)\n",
        "    ax.set_title('Reg = '+str(regs[i]), fontsize=20)\n",
        "\n",
        "plt.show()"
      ],
      "execution_count": 0,
      "outputs": []
    },
    {
      "cell_type": "markdown",
      "metadata": {
        "id": "eNFlM3RywAl1",
        "colab_type": "text"
      },
      "source": [
        "## 2. Document Clustering"
      ]
    },
    {
      "cell_type": "markdown",
      "metadata": {
        "id": "cq9danJpwAl2",
        "colab_type": "text"
      },
      "source": [
        "We would likle to classify several text documents. In order to do this, we will:\n",
        "1. Transform each text into a point cloud\n",
        "2. Compute the Optimal Transport distances between each pair of point clouds\n",
        "3. Use MDS to plot the different clusters in 2 dimensions"
      ]
    },
    {
      "cell_type": "markdown",
      "metadata": {
        "id": "iLjCFnUHwAl2",
        "colab_type": "text"
      },
      "source": [
        "### Load the Data and Preprocessing\n",
        "We consider seven movie scenarios. We transformed each of them into a point cloud using the following steps:\n",
        "1. Keep only the words among the $2.000 - 20.000$ most common words\n",
        "2. Each remaining word is transformed into a $300$-dimensional vector using word2vec\n",
        "3. Each word is given a weight proportional to its frequency\n",
        "\n",
        "The variable `texts` is a list of tuples. Each tuple represents a movie, and contains two parts:\n",
        "1. A matrix $X \\in \\mathbb{R}^{n \\times 300}$ where $n$ is the number of different words, containing the position of the points\n",
        "2. A vector $a \\in \\mathbb{R}^n$ containing the corresponding weights"
      ]
    },
    {
      "cell_type": "code",
      "metadata": {
        "id": "SwMrZHa3wAl5",
        "colab_type": "code",
        "colab": {}
      },
      "source": [
        "import pickle\n",
        "\n",
        "with open(DATA_PATH + 'texts.pickle', 'rb') as file:\n",
        "    texts = pickle.load(file)\n",
        "\n",
        "movies = ['DUNKIRK', 'GRAVITY', 'INTERSTELLAR', 'KILL BILL VOL.1', 'KILL BILL VOL.2', 'THE MARTIAN', 'TITANIC']"
      ],
      "execution_count": 0,
      "outputs": []
    },
    {
      "cell_type": "markdown",
      "metadata": {
        "id": "Q9kWV4ltwAl8",
        "colab_type": "text"
      },
      "source": [
        "### Compute the OT distances"
      ]
    },
    {
      "cell_type": "code",
      "metadata": {
        "id": "hCLVUY9xwAl9",
        "colab_type": "code",
        "colab": {}
      },
      "source": [
        "# Set regularization strength\n",
        "reg = 0.1"
      ],
      "execution_count": 0,
      "outputs": []
    },
    {
      "cell_type": "code",
      "metadata": {
        "id": "yv4xFXtHwAmB",
        "colab_type": "code",
        "colab": {}
      },
      "source": [
        "def costMatrix(i,j):\n",
        "    '''Return the cost matrix C between movies number i and j.'''\n",
        "    X = texts[i][0]\n",
        "    Y = texts[j][0]\n",
        "    \n",
        "    return # TODO"
      ],
      "execution_count": 0,
      "outputs": []
    },
    {
      "cell_type": "code",
      "metadata": {
        "id": "T9jSqIywwAmD",
        "colab_type": "code",
        "colab": {}
      },
      "source": [
        "#this cell will take approximately 1 minute to compute in Google Colaboratory after you complete it\n",
        "OT_distances = np.zeros((7,7))\n",
        "# TODO: compute the OT distance (using Sinkhorn algorithm ot.sinkhorn) between all the pairs of scenarios"
      ],
      "execution_count": 0,
      "outputs": []
    },
    {
      "cell_type": "markdown",
      "metadata": {
        "id": "QPJaNctTwAmF",
        "colab_type": "text"
      },
      "source": [
        "### Plot the MDS projection"
      ]
    },
    {
      "cell_type": "code",
      "metadata": {
        "id": "GFeOuUdbwAmF",
        "colab_type": "code",
        "colab": {}
      },
      "source": [
        "from sklearn.manifold import MDS\n",
        "embedding = MDS(n_components=2, dissimilarity='precomputed')\n",
        "dis = OT_distances - OT_distances[OT_distances>0].min()\n",
        "np.fill_diagonal(dis, 0.)\n",
        "embedding = embedding.fit(dis)\n",
        "X = embedding.embedding_\n",
        "\n",
        "import matplotlib.pyplot as plt\n",
        "plt.figure(figsize=(17,6))\n",
        "plt.scatter(X[:,0], X[:,1], alpha=0.)\n",
        "plt.axis('equal')\n",
        "plt.axis('off')\n",
        "c = {'KILL BILL VOL.1':'red', 'KILL BILL VOL.2':'red', 'TITANIC':'blue', 'DUNKIRK':'blue', 'GRAVITY':'black', 'INTERSTELLAR':'black', 'THE MARTIAN':'black'}\n",
        "for film in movies:\n",
        "    i = movies.index(film)\n",
        "    plt.gca().annotate(film, X[i], size=30, ha='center', color=c[film], weight=\"bold\", alpha=0.7)\n",
        "plt.show()"
      ],
      "execution_count": 0,
      "outputs": []
    },
    {
      "cell_type": "code",
      "metadata": {
        "id": "EVruQxj1zSfW",
        "colab_type": "code",
        "colab": {}
      },
      "source": [
        ""
      ],
      "execution_count": 0,
      "outputs": []
    }
  ]
}